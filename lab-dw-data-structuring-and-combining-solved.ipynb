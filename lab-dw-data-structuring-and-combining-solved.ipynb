{
 "cells": [
  {
   "cell_type": "markdown",
   "id": "25d7736c-ba17-4aff-b6bb-66eba20fbf4e",
   "metadata": {
    "id": "25d7736c-ba17-4aff-b6bb-66eba20fbf4e"
   },
   "source": [
    "# Lab | Data Structuring and Combining Data"
   ]
  },
  {
   "cell_type": "markdown",
   "id": "a2cdfc70-44c8-478c-81e7-2bc43fdf4986",
   "metadata": {
    "id": "a2cdfc70-44c8-478c-81e7-2bc43fdf4986"
   },
   "source": [
    "## Challenge 1: Combining & Cleaning Data\n",
    "\n",
    "In this challenge, we will be working with the customer data from an insurance company, as we did in the two previous labs. The data can be found here:\n",
    "- https://raw.githubusercontent.com/data-bootcamp-v4/data/main/file1.csv\n",
    "\n",
    "But this time, we got new data, which can be found in the following 2 CSV files located at the links below.\n",
    "\n",
    "- https://raw.githubusercontent.com/data-bootcamp-v4/data/main/file2.csv\n",
    "- https://raw.githubusercontent.com/data-bootcamp-v4/data/main/file3.csv\n",
    "\n",
    "Note that you'll need to clean and format the new data.\n",
    "\n",
    "Observation:\n",
    "- One option is to first combine the three datasets and then apply the cleaning function to the new combined dataset\n",
    "- Another option would be to read the clean file you saved in the previous lab, and just clean the two new files and concatenate the three clean datasets"
   ]
  },
  {
   "cell_type": "code",
   "execution_count": 33,
   "id": "492d06e3-92c7-4105-ac72-536db98d3244",
   "metadata": {
    "id": "492d06e3-92c7-4105-ac72-536db98d3244"
   },
   "outputs": [],
   "source": [
    "import pandas as pd\n",
    "\n",
    "url1 = '/Users/houleyeanne/Documents/GitHub/WEEK2/lab-dw-data-cleaning-and-formatting/df_unique_single_col.csv'\n",
    "url2 = 'https://raw.githubusercontent.com/data-bootcamp-v4/data/main/file2.csv'\n",
    "url3 = 'https://raw.githubusercontent.com/data-bootcamp-v4/data/main/file3.csv'\n",
    "\n",
    "df1 = pd.read_csv(url1)\n",
    "df2 = pd.read_csv(url2)\n",
    "df3 = pd.read_csv(url3)"
   ]
  },
  {
   "cell_type": "markdown",
   "id": "7163a61c",
   "metadata": {},
   "source": [
    " ## df2 cleaning"
   ]
  },
  {
   "cell_type": "code",
   "execution_count": 115,
   "id": "9967fe61",
   "metadata": {},
   "outputs": [
    {
     "name": "stdout",
     "output_type": "stream",
     "text": [
      "<class 'pandas.core.frame.DataFrame'>\n",
      "RangeIndex: 996 entries, 0 to 995\n",
      "Data columns (total 11 columns):\n",
      " #   Column                     Non-Null Count  Dtype  \n",
      "---  ------                     --------------  -----  \n",
      " 0   Customer                   996 non-null    object \n",
      " 1   state                      996 non-null    object \n",
      " 2   GENDER                     991 non-null    object \n",
      " 3   Education                  996 non-null    object \n",
      " 4   Customer Lifetime Value    992 non-null    object \n",
      " 5   Income                     996 non-null    int64  \n",
      " 6   Monthly Premium Auto       996 non-null    int64  \n",
      " 7   Number of Open Complaints  996 non-null    object \n",
      " 8   Total Claim Amount         996 non-null    float64\n",
      " 9   Policy Type                996 non-null    object \n",
      " 10  Vehicle Class              996 non-null    object \n",
      "dtypes: float64(1), int64(2), object(8)\n",
      "memory usage: 85.7+ KB\n"
     ]
    },
    {
     "data": {
      "text/plain": [
       "Customer                     0\n",
       "state                        0\n",
       "GENDER                       5\n",
       "Education                    0\n",
       "Customer Lifetime Value      4\n",
       "Income                       0\n",
       "Monthly Premium Auto         0\n",
       "Number of Open Complaints    0\n",
       "Total Claim Amount           0\n",
       "Policy Type                  0\n",
       "Vehicle Class                0\n",
       "dtype: int64"
      ]
     },
     "execution_count": 115,
     "metadata": {},
     "output_type": "execute_result"
    }
   ],
   "source": [
    "df2.head()\n",
    "df2.info()\n",
    "df2.isna().sum()\n"
   ]
  },
  {
   "cell_type": "markdown",
   "id": "ce24f356",
   "metadata": {},
   "source": [
    "- Cleaning the gender"
   ]
  },
  {
   "cell_type": "code",
   "execution_count": 116,
   "id": "31d95f7e",
   "metadata": {},
   "outputs": [],
   "source": [
    "data = {\n",
    "    'GENDER': ['F', 'M', 'Femal', 'Male', 'female'],\n",
    "    # Add other columns like 'State', 'Education', 'Customer Lifetime Value', 'Vehicle Class' for demonstration\n",
    "}\n",
    "df_gender = pd.DataFrame(data)\n",
    "\n",
    "# Standardizing Gender values\n",
    "df2['GENDER'] = df2['GENDER'].replace(['Femal', 'female'], 'F').replace(['Male'], 'M')"
   ]
  },
  {
   "cell_type": "markdown",
   "id": "3fb5527d",
   "metadata": {},
   "source": [
    "- Cleaning the state"
   ]
  },
  {
   "cell_type": "code",
   "execution_count": 117,
   "id": "99ad7982",
   "metadata": {},
   "outputs": [
    {
     "name": "stdout",
     "output_type": "stream",
     "text": [
      "Index(['Customer', 'state', 'GENDER', 'Education', 'Customer Lifetime Value',\n",
      "       'Income', 'Monthly Premium Auto', 'Number of Open Complaints',\n",
      "       'Total Claim Amount', 'Policy Type', 'Vehicle Class'],\n",
      "      dtype='object')\n"
     ]
    }
   ],
   "source": [
    "df2.rename(columns= {'ST': 'state'}, inplace=True)\n",
    "print(df2.columns)"
   ]
  },
  {
   "cell_type": "code",
   "execution_count": 118,
   "id": "638655f4",
   "metadata": {},
   "outputs": [],
   "source": [
    "df2_renamed = df2.rename(columns={ col: col.replace(\" \",\"_\").lower() for col in df2.columns })"
   ]
  },
  {
   "cell_type": "code",
   "execution_count": 119,
   "id": "03b60f89",
   "metadata": {},
   "outputs": [
    {
     "data": {
      "text/html": [
       "<div>\n",
       "<style scoped>\n",
       "    .dataframe tbody tr th:only-of-type {\n",
       "        vertical-align: middle;\n",
       "    }\n",
       "\n",
       "    .dataframe tbody tr th {\n",
       "        vertical-align: top;\n",
       "    }\n",
       "\n",
       "    .dataframe thead th {\n",
       "        text-align: right;\n",
       "    }\n",
       "</style>\n",
       "<table border=\"1\" class=\"dataframe\">\n",
       "  <thead>\n",
       "    <tr style=\"text-align: right;\">\n",
       "      <th></th>\n",
       "      <th>customer</th>\n",
       "      <th>state</th>\n",
       "      <th>gender</th>\n",
       "      <th>education</th>\n",
       "      <th>customer_lifetime_value</th>\n",
       "      <th>income</th>\n",
       "      <th>monthly_premium_auto</th>\n",
       "      <th>number_of_open_complaints</th>\n",
       "      <th>total_claim_amount</th>\n",
       "      <th>policy_type</th>\n",
       "      <th>vehicle_class</th>\n",
       "    </tr>\n",
       "  </thead>\n",
       "  <tbody>\n",
       "    <tr>\n",
       "      <th>0</th>\n",
       "      <td>GS98873</td>\n",
       "      <td>Arizona</td>\n",
       "      <td>F</td>\n",
       "      <td>Bachelor</td>\n",
       "      <td>323912.47%</td>\n",
       "      <td>16061</td>\n",
       "      <td>88</td>\n",
       "      <td>1/0/00</td>\n",
       "      <td>633.6</td>\n",
       "      <td>Personal Auto</td>\n",
       "      <td>Four-Door Car</td>\n",
       "    </tr>\n",
       "    <tr>\n",
       "      <th>1</th>\n",
       "      <td>CW49887</td>\n",
       "      <td>California</td>\n",
       "      <td>F</td>\n",
       "      <td>Master</td>\n",
       "      <td>462680.11%</td>\n",
       "      <td>79487</td>\n",
       "      <td>114</td>\n",
       "      <td>1/0/00</td>\n",
       "      <td>547.2</td>\n",
       "      <td>Special Auto</td>\n",
       "      <td>SUV</td>\n",
       "    </tr>\n",
       "    <tr>\n",
       "      <th>2</th>\n",
       "      <td>MY31220</td>\n",
       "      <td>California</td>\n",
       "      <td>F</td>\n",
       "      <td>College</td>\n",
       "      <td>899704.02%</td>\n",
       "      <td>54230</td>\n",
       "      <td>112</td>\n",
       "      <td>1/0/00</td>\n",
       "      <td>537.6</td>\n",
       "      <td>Personal Auto</td>\n",
       "      <td>Two-Door Car</td>\n",
       "    </tr>\n",
       "    <tr>\n",
       "      <th>3</th>\n",
       "      <td>UH35128</td>\n",
       "      <td>Oregon</td>\n",
       "      <td>F</td>\n",
       "      <td>College</td>\n",
       "      <td>2580706.30%</td>\n",
       "      <td>71210</td>\n",
       "      <td>214</td>\n",
       "      <td>1/1/00</td>\n",
       "      <td>1027.2</td>\n",
       "      <td>Personal Auto</td>\n",
       "      <td>Luxury Car</td>\n",
       "    </tr>\n",
       "    <tr>\n",
       "      <th>4</th>\n",
       "      <td>WH52799</td>\n",
       "      <td>Arizona</td>\n",
       "      <td>F</td>\n",
       "      <td>College</td>\n",
       "      <td>380812.21%</td>\n",
       "      <td>94903</td>\n",
       "      <td>94</td>\n",
       "      <td>1/0/00</td>\n",
       "      <td>451.2</td>\n",
       "      <td>Corporate Auto</td>\n",
       "      <td>Two-Door Car</td>\n",
       "    </tr>\n",
       "  </tbody>\n",
       "</table>\n",
       "</div>"
      ],
      "text/plain": [
       "  customer       state gender education customer_lifetime_value  income  \\\n",
       "0  GS98873     Arizona      F  Bachelor              323912.47%   16061   \n",
       "1  CW49887  California      F    Master              462680.11%   79487   \n",
       "2  MY31220  California      F   College              899704.02%   54230   \n",
       "3  UH35128      Oregon      F   College             2580706.30%   71210   \n",
       "4  WH52799     Arizona      F   College              380812.21%   94903   \n",
       "\n",
       "   monthly_premium_auto number_of_open_complaints  total_claim_amount  \\\n",
       "0                    88                    1/0/00               633.6   \n",
       "1                   114                    1/0/00               547.2   \n",
       "2                   112                    1/0/00               537.6   \n",
       "3                   214                    1/1/00              1027.2   \n",
       "4                    94                    1/0/00               451.2   \n",
       "\n",
       "      policy_type  vehicle_class  \n",
       "0   Personal Auto  Four-Door Car  \n",
       "1    Special Auto            SUV  \n",
       "2   Personal Auto   Two-Door Car  \n",
       "3   Personal Auto     Luxury Car  \n",
       "4  Corporate Auto   Two-Door Car  "
      ]
     },
     "execution_count": 119,
     "metadata": {},
     "output_type": "execute_result"
    }
   ],
   "source": [
    "df2_renamed.head()"
   ]
  },
  {
   "cell_type": "markdown",
   "id": "b9282b43",
   "metadata": {},
   "source": [
    "- Cleaning education"
   ]
  },
  {
   "cell_type": "code",
   "execution_count": 120,
   "id": "85482985",
   "metadata": {},
   "outputs": [
    {
     "data": {
      "text/plain": [
       "array(['Bachelor', 'Master', 'College', 'Doctor', 'Bachelors',\n",
       "       'High School or Below'], dtype=object)"
      ]
     },
     "execution_count": 120,
     "metadata": {},
     "output_type": "execute_result"
    }
   ],
   "source": [
    "df2_renamed['education'].unique()"
   ]
  },
  {
   "cell_type": "code",
   "execution_count": 121,
   "id": "57431c81",
   "metadata": {},
   "outputs": [],
   "source": [
    "data_bachelor = {'Bachelors': 'Bachelor'}\n",
    "\n",
    "df2_renamed['education'] = df2_renamed['education'].replace(data_bachelor)\n"
   ]
  },
  {
   "cell_type": "markdown",
   "id": "86fbc5e4",
   "metadata": {},
   "source": [
    "- Cleaning the state"
   ]
  },
  {
   "cell_type": "code",
   "execution_count": 122,
   "id": "33f09d51",
   "metadata": {},
   "outputs": [],
   "source": [
    "state_map = {'AZ': 'Arizona'}\n",
    "df2['state'] = df2['state'].replace(state_map)"
   ]
  },
  {
   "cell_type": "markdown",
   "id": "a97c8d7b",
   "metadata": {},
   "source": [
    "- *In Customer Lifetime Value, delete the `%` character*"
   ]
  },
  {
   "cell_type": "code",
   "execution_count": 123,
   "id": "ce6b8950",
   "metadata": {},
   "outputs": [],
   "source": [
    "data_customer_lifetime = pd.DataFrame({\n",
    "    'customer_lifetime_value': ['100%', '200%', '300%']\n",
    "})\n",
    "\n",
    "df2_renamed['customer_lifetime_value'] = df2_renamed['customer_lifetime_value'].str.replace('%', '', regex=False).astype(float)\n"
   ]
  },
  {
   "cell_type": "markdown",
   "id": "38030051",
   "metadata": {},
   "source": [
    "\n",
    "- *In vehicle class, \"Sports Car\", \"Luxury SUV\" and \"Luxury Car\" could be replaced by \"Luxury\"*"
   ]
  },
  {
   "cell_type": "code",
   "execution_count": 124,
   "id": "27d7a73c",
   "metadata": {},
   "outputs": [],
   "source": [
    "data_vehicle = {'vehicle-class': [\"Sports Car\", \"Luxury SUV\", \"Luxury Car\"],\n",
    "                                  }\n",
    "\n",
    "df2_renamed['vehicle_class'] = df2_renamed[\"vehicle_class\"].replace([\"Sports Car\", \"Luxury SUV\", \"Luxury Car\"], \"Luxury\")\n",
    "\n"
   ]
  },
  {
   "cell_type": "markdown",
   "id": "d9eacba5",
   "metadata": {},
   "source": [
    "- Cleaning number of open complaints"
   ]
  },
  {
   "cell_type": "code",
   "execution_count": null,
   "id": "cb7e9bbb",
   "metadata": {},
   "outputs": [],
   "source": [
    "df2_renamed[\"number_of_open_complaints\"].head"
   ]
  },
  {
   "cell_type": "code",
   "execution_count": 127,
   "id": "5f74c129",
   "metadata": {},
   "outputs": [],
   "source": [
    "df2_renamed['number_of_open_complaints'].unique()\n",
    "nb_open_complaints = {'1/0/00': '0','1/1/00': '1', '1/2/00': '2', '1/3/00': '3','1/4/00': '4','1/5/00': '5'}\n",
    "df2_renamed['number_of_open_complaints']= df2_renamed['number_of_open_complaints'].replace(nb_open_complaints)"
   ]
  },
  {
   "cell_type": "markdown",
   "id": "0b3d8b55",
   "metadata": {},
   "source": [
    "- Null Values in df2"
   ]
  },
  {
   "cell_type": "code",
   "execution_count": null,
   "id": "5e81bced",
   "metadata": {},
   "outputs": [],
   "source": [
    "df2_renamed.isna().sum()"
   ]
  },
  {
   "cell_type": "code",
   "execution_count": 130,
   "id": "d5b3035e",
   "metadata": {},
   "outputs": [],
   "source": [
    "categorical_columns = ['gender']\n",
    "\n",
    "for col in categorical_columns:\n",
    "    df2_renamed[col] = df2_renamed[col].fillna(df2_renamed[col].mode()[0])"
   ]
  },
  {
   "cell_type": "code",
   "execution_count": 131,
   "id": "88682e05",
   "metadata": {},
   "outputs": [],
   "source": [
    "numerical_columns = ['customer_lifetime_value']\n",
    "\n",
    "for col in numerical_columns:\n",
    "    df2_renamed[col] = df2_renamed[col].fillna(df2_renamed[col].mean())"
   ]
  },
  {
   "cell_type": "markdown",
   "id": "586e57ac",
   "metadata": {},
   "source": [
    "## df3 Cleaning"
   ]
  },
  {
   "cell_type": "code",
   "execution_count": 132,
   "id": "4c070d1c",
   "metadata": {},
   "outputs": [
    {
     "name": "stdout",
     "output_type": "stream",
     "text": [
      "<class 'pandas.core.frame.DataFrame'>\n",
      "RangeIndex: 7070 entries, 0 to 7069\n",
      "Data columns (total 11 columns):\n",
      " #   Column                     Non-Null Count  Dtype  \n",
      "---  ------                     --------------  -----  \n",
      " 0   Customer                   7070 non-null   object \n",
      " 1   State                      7070 non-null   object \n",
      " 2   Customer Lifetime Value    7070 non-null   float64\n",
      " 3   Education                  7070 non-null   object \n",
      " 4   Gender                     7070 non-null   object \n",
      " 5   Income                     7070 non-null   int64  \n",
      " 6   Monthly Premium Auto       7070 non-null   int64  \n",
      " 7   Number of Open Complaints  7070 non-null   int64  \n",
      " 8   Policy Type                7070 non-null   object \n",
      " 9   Total Claim Amount         7070 non-null   float64\n",
      " 10  Vehicle Class              7070 non-null   object \n",
      "dtypes: float64(2), int64(3), object(6)\n",
      "memory usage: 607.7+ KB\n"
     ]
    },
    {
     "data": {
      "text/plain": [
       "Customer                     0\n",
       "State                        0\n",
       "Customer Lifetime Value      0\n",
       "Education                    0\n",
       "Gender                       0\n",
       "Income                       0\n",
       "Monthly Premium Auto         0\n",
       "Number of Open Complaints    0\n",
       "Policy Type                  0\n",
       "Total Claim Amount           0\n",
       "Vehicle Class                0\n",
       "dtype: int64"
      ]
     },
     "execution_count": 132,
     "metadata": {},
     "output_type": "execute_result"
    }
   ],
   "source": [
    "df3.head()\n",
    "df3.info()\n",
    "df3.isna().sum()\n"
   ]
  },
  {
   "cell_type": "code",
   "execution_count": 142,
   "id": "71669368",
   "metadata": {},
   "outputs": [],
   "source": [
    "df3_renamed = df3.rename(columns={ col: col.replace(\" \",\"_\").lower() for col in df3.columns })"
   ]
  },
  {
   "cell_type": "code",
   "execution_count": 145,
   "id": "396d241f",
   "metadata": {},
   "outputs": [],
   "source": [
    "data_vehicle = {'vehicle-class': [\"Sports Car\", \"Luxury SUV\", \"Luxury Car\"],\n",
    "                                  }\n",
    "\n",
    "df3_renamed['vehicle_class'] = df3_renamed[\"vehicle_class\"].replace([\"Sports Car\", \"Luxury SUV\", \"Luxury Car\"], \"Luxury\")\n",
    "\n"
   ]
  },
  {
   "cell_type": "code",
   "execution_count": 147,
   "id": "2f01cd40",
   "metadata": {},
   "outputs": [
    {
     "data": {
      "text/plain": [
       "array(['Two-Door Car', 'Four-Door Car', 'SUV', 'Luxury'], dtype=object)"
      ]
     },
     "execution_count": 147,
     "metadata": {},
     "output_type": "execute_result"
    }
   ],
   "source": [
    "df3_renamed['vehicle_class'].unique()"
   ]
  },
  {
   "cell_type": "code",
   "execution_count": 148,
   "id": "fc40bd14",
   "metadata": {},
   "outputs": [],
   "source": [
    "data = {\n",
    "    'gender': ['F', 'M', 'Femal', 'Male', 'female'],\n",
    "    # Add other columns like 'State', 'Education', 'Customer Lifetime Value', 'Vehicle Class' for demonstration\n",
    "}\n",
    "df_gender = pd.DataFrame(data)\n",
    "\n",
    "# Standardizing Gender values\n",
    "df3_renamed['gender'] = df3_renamed['gender'].replace(['Femal', 'female'], 'F').replace(['Male'], 'M')"
   ]
  },
  {
   "cell_type": "code",
   "execution_count": 152,
   "id": "efc8a893",
   "metadata": {},
   "outputs": [
    {
     "data": {
      "text/plain": [
       "customer                     0\n",
       "state                        0\n",
       "gender                       0\n",
       "education                    0\n",
       "customer_lifetime_value      0\n",
       "income                       0\n",
       "monthly_premium_auto         0\n",
       "number_of_open_complaints    0\n",
       "policy_type                  0\n",
       "vehicle_class                0\n",
       "total_claim_amount           0\n",
       "dtype: int64"
      ]
     },
     "execution_count": 152,
     "metadata": {},
     "output_type": "execute_result"
    }
   ],
   "source": [
    "df1.head()\n",
    "df1.isna().sum()"
   ]
  },
  {
   "cell_type": "code",
   "execution_count": 154,
   "id": "028c7a6e",
   "metadata": {},
   "outputs": [
    {
     "data": {
      "text/plain": [
       "customer                     0\n",
       "state                        0\n",
       "gender                       0\n",
       "education                    0\n",
       "customer_lifetime_value      0\n",
       "income                       0\n",
       "monthly_premium_auto         0\n",
       "number_of_open_complaints    0\n",
       "total_claim_amount           0\n",
       "policy_type                  0\n",
       "vehicle_class                0\n",
       "dtype: int64"
      ]
     },
     "execution_count": 154,
     "metadata": {},
     "output_type": "execute_result"
    }
   ],
   "source": [
    "df2_renamed.head()\n",
    "df2_renamed.isna().sum()"
   ]
  },
  {
   "cell_type": "code",
   "execution_count": 153,
   "id": "c809dccd",
   "metadata": {},
   "outputs": [
    {
     "data": {
      "text/plain": [
       "customer                     0\n",
       "state                        0\n",
       "customer_lifetime_value      0\n",
       "education                    0\n",
       "gender                       0\n",
       "income                       0\n",
       "monthly_premium_auto         0\n",
       "number_of_open_complaints    0\n",
       "policy_type                  0\n",
       "total_claim_amount           0\n",
       "vehicle_class                0\n",
       "dtype: int64"
      ]
     },
     "execution_count": 153,
     "metadata": {},
     "output_type": "execute_result"
    }
   ],
   "source": [
    "df3_renamed.head()\n",
    "df3_renamed.isna().sum()"
   ]
  },
  {
   "cell_type": "markdown",
   "id": "2fdb98f8",
   "metadata": {},
   "source": [
    "## Concatenation of the three datasets"
   ]
  },
  {
   "cell_type": "code",
   "execution_count": 155,
   "id": "b6dec3b6",
   "metadata": {},
   "outputs": [
    {
     "data": {
      "text/html": [
       "<div>\n",
       "<style scoped>\n",
       "    .dataframe tbody tr th:only-of-type {\n",
       "        vertical-align: middle;\n",
       "    }\n",
       "\n",
       "    .dataframe tbody tr th {\n",
       "        vertical-align: top;\n",
       "    }\n",
       "\n",
       "    .dataframe thead th {\n",
       "        text-align: right;\n",
       "    }\n",
       "</style>\n",
       "<table border=\"1\" class=\"dataframe\">\n",
       "  <thead>\n",
       "    <tr style=\"text-align: right;\">\n",
       "      <th></th>\n",
       "      <th>customer</th>\n",
       "      <th>state</th>\n",
       "      <th>gender</th>\n",
       "      <th>education</th>\n",
       "      <th>customer_lifetime_value</th>\n",
       "      <th>income</th>\n",
       "      <th>monthly_premium_auto</th>\n",
       "      <th>number_of_open_complaints</th>\n",
       "      <th>policy_type</th>\n",
       "      <th>vehicle_class</th>\n",
       "      <th>total_claim_amount</th>\n",
       "    </tr>\n",
       "  </thead>\n",
       "  <tbody>\n",
       "    <tr>\n",
       "      <th>0</th>\n",
       "      <td>RB50392</td>\n",
       "      <td>Washington</td>\n",
       "      <td>F</td>\n",
       "      <td>Master</td>\n",
       "      <td>7.936903e+05</td>\n",
       "      <td>0.0</td>\n",
       "      <td>1000.0</td>\n",
       "      <td>0.0</td>\n",
       "      <td>Personal Auto</td>\n",
       "      <td>Four-Door Car</td>\n",
       "      <td>2.704934</td>\n",
       "    </tr>\n",
       "    <tr>\n",
       "      <th>1</th>\n",
       "      <td>QZ44356</td>\n",
       "      <td>Arizona</td>\n",
       "      <td>F</td>\n",
       "      <td>Bachelor</td>\n",
       "      <td>6.979536e+05</td>\n",
       "      <td>0.0</td>\n",
       "      <td>94.0</td>\n",
       "      <td>0.0</td>\n",
       "      <td>Personal Auto</td>\n",
       "      <td>Four-Door Car</td>\n",
       "      <td>1131.464935</td>\n",
       "    </tr>\n",
       "    <tr>\n",
       "      <th>2</th>\n",
       "      <td>AI49188</td>\n",
       "      <td>Nevada</td>\n",
       "      <td>F</td>\n",
       "      <td>Bachelor</td>\n",
       "      <td>1.288743e+06</td>\n",
       "      <td>48767.0</td>\n",
       "      <td>108.0</td>\n",
       "      <td>0.0</td>\n",
       "      <td>Personal Auto</td>\n",
       "      <td>Two-Door Car</td>\n",
       "      <td>566.472247</td>\n",
       "    </tr>\n",
       "    <tr>\n",
       "      <th>3</th>\n",
       "      <td>WW63253</td>\n",
       "      <td>California</td>\n",
       "      <td>M</td>\n",
       "      <td>Bachelor</td>\n",
       "      <td>7.645862e+05</td>\n",
       "      <td>0.0</td>\n",
       "      <td>106.0</td>\n",
       "      <td>0.0</td>\n",
       "      <td>Corporate Auto</td>\n",
       "      <td>SUV</td>\n",
       "      <td>529.881344</td>\n",
       "    </tr>\n",
       "    <tr>\n",
       "      <th>4</th>\n",
       "      <td>GA49547</td>\n",
       "      <td>Washington</td>\n",
       "      <td>M</td>\n",
       "      <td>High School or Below</td>\n",
       "      <td>5.363077e+05</td>\n",
       "      <td>36357.0</td>\n",
       "      <td>68.0</td>\n",
       "      <td>0.0</td>\n",
       "      <td>Personal Auto</td>\n",
       "      <td>Four-Door Car</td>\n",
       "      <td>17.269323</td>\n",
       "    </tr>\n",
       "    <tr>\n",
       "      <th>...</th>\n",
       "      <td>...</td>\n",
       "      <td>...</td>\n",
       "      <td>...</td>\n",
       "      <td>...</td>\n",
       "      <td>...</td>\n",
       "      <td>...</td>\n",
       "      <td>...</td>\n",
       "      <td>...</td>\n",
       "      <td>...</td>\n",
       "      <td>...</td>\n",
       "      <td>...</td>\n",
       "    </tr>\n",
       "    <tr>\n",
       "      <th>7065</th>\n",
       "      <td>LA72316</td>\n",
       "      <td>California</td>\n",
       "      <td>M</td>\n",
       "      <td>Bachelor</td>\n",
       "      <td>2.340599e+04</td>\n",
       "      <td>71941.0</td>\n",
       "      <td>73.0</td>\n",
       "      <td>0</td>\n",
       "      <td>Personal Auto</td>\n",
       "      <td>Four-Door Car</td>\n",
       "      <td>198.234764</td>\n",
       "    </tr>\n",
       "    <tr>\n",
       "      <th>7066</th>\n",
       "      <td>PK87824</td>\n",
       "      <td>California</td>\n",
       "      <td>F</td>\n",
       "      <td>College</td>\n",
       "      <td>3.096511e+03</td>\n",
       "      <td>21604.0</td>\n",
       "      <td>79.0</td>\n",
       "      <td>0</td>\n",
       "      <td>Corporate Auto</td>\n",
       "      <td>Four-Door Car</td>\n",
       "      <td>379.200000</td>\n",
       "    </tr>\n",
       "    <tr>\n",
       "      <th>7067</th>\n",
       "      <td>TD14365</td>\n",
       "      <td>California</td>\n",
       "      <td>M</td>\n",
       "      <td>Bachelor</td>\n",
       "      <td>8.163890e+03</td>\n",
       "      <td>0.0</td>\n",
       "      <td>85.0</td>\n",
       "      <td>3</td>\n",
       "      <td>Corporate Auto</td>\n",
       "      <td>Four-Door Car</td>\n",
       "      <td>790.784983</td>\n",
       "    </tr>\n",
       "    <tr>\n",
       "      <th>7068</th>\n",
       "      <td>UP19263</td>\n",
       "      <td>California</td>\n",
       "      <td>M</td>\n",
       "      <td>College</td>\n",
       "      <td>7.524442e+03</td>\n",
       "      <td>21941.0</td>\n",
       "      <td>96.0</td>\n",
       "      <td>0</td>\n",
       "      <td>Personal Auto</td>\n",
       "      <td>Four-Door Car</td>\n",
       "      <td>691.200000</td>\n",
       "    </tr>\n",
       "    <tr>\n",
       "      <th>7069</th>\n",
       "      <td>Y167826</td>\n",
       "      <td>California</td>\n",
       "      <td>M</td>\n",
       "      <td>College</td>\n",
       "      <td>2.611837e+03</td>\n",
       "      <td>0.0</td>\n",
       "      <td>77.0</td>\n",
       "      <td>0</td>\n",
       "      <td>Corporate Auto</td>\n",
       "      <td>Two-Door Car</td>\n",
       "      <td>369.600000</td>\n",
       "    </tr>\n",
       "  </tbody>\n",
       "</table>\n",
       "<p>9137 rows × 11 columns</p>\n",
       "</div>"
      ],
      "text/plain": [
       "     customer       state gender             education  \\\n",
       "0     RB50392  Washington      F                Master   \n",
       "1     QZ44356     Arizona      F              Bachelor   \n",
       "2     AI49188      Nevada      F              Bachelor   \n",
       "3     WW63253  California      M              Bachelor   \n",
       "4     GA49547  Washington      M  High School or Below   \n",
       "...       ...         ...    ...                   ...   \n",
       "7065  LA72316  California      M              Bachelor   \n",
       "7066  PK87824  California      F               College   \n",
       "7067  TD14365  California      M              Bachelor   \n",
       "7068  UP19263  California      M               College   \n",
       "7069  Y167826  California      M               College   \n",
       "\n",
       "      customer_lifetime_value   income  monthly_premium_auto  \\\n",
       "0                7.936903e+05      0.0                1000.0   \n",
       "1                6.979536e+05      0.0                  94.0   \n",
       "2                1.288743e+06  48767.0                 108.0   \n",
       "3                7.645862e+05      0.0                 106.0   \n",
       "4                5.363077e+05  36357.0                  68.0   \n",
       "...                       ...      ...                   ...   \n",
       "7065             2.340599e+04  71941.0                  73.0   \n",
       "7066             3.096511e+03  21604.0                  79.0   \n",
       "7067             8.163890e+03      0.0                  85.0   \n",
       "7068             7.524442e+03  21941.0                  96.0   \n",
       "7069             2.611837e+03      0.0                  77.0   \n",
       "\n",
       "     number_of_open_complaints     policy_type  vehicle_class  \\\n",
       "0                          0.0   Personal Auto  Four-Door Car   \n",
       "1                          0.0   Personal Auto  Four-Door Car   \n",
       "2                          0.0   Personal Auto   Two-Door Car   \n",
       "3                          0.0  Corporate Auto            SUV   \n",
       "4                          0.0   Personal Auto  Four-Door Car   \n",
       "...                        ...             ...            ...   \n",
       "7065                         0   Personal Auto  Four-Door Car   \n",
       "7066                         0  Corporate Auto  Four-Door Car   \n",
       "7067                         3  Corporate Auto  Four-Door Car   \n",
       "7068                         0   Personal Auto  Four-Door Car   \n",
       "7069                         0  Corporate Auto   Two-Door Car   \n",
       "\n",
       "      total_claim_amount  \n",
       "0               2.704934  \n",
       "1            1131.464935  \n",
       "2             566.472247  \n",
       "3             529.881344  \n",
       "4              17.269323  \n",
       "...                  ...  \n",
       "7065          198.234764  \n",
       "7066          379.200000  \n",
       "7067          790.784983  \n",
       "7068          691.200000  \n",
       "7069          369.600000  \n",
       "\n",
       "[9137 rows x 11 columns]"
      ]
     },
     "execution_count": 155,
     "metadata": {},
     "output_type": "execute_result"
    }
   ],
   "source": [
    "pd.concat([df1, df2_renamed, df3_renamed], axis = 0)"
   ]
  },
  {
   "cell_type": "code",
   "execution_count": null,
   "id": "8acd8175",
   "metadata": {},
   "outputs": [],
   "source": [
    "pd.concat([df_sales, df_sales_2], axis=0)"
   ]
  },
  {
   "cell_type": "markdown",
   "id": "31b8a9e7-7db9-4604-991b-ef6771603e57",
   "metadata": {
    "id": "31b8a9e7-7db9-4604-991b-ef6771603e57"
   },
   "source": [
    "# Challenge 2: Structuring Data"
   ]
  },
  {
   "cell_type": "markdown",
   "id": "a877fd6d-7a0c-46d2-9657-f25036e4ca4b",
   "metadata": {
    "id": "a877fd6d-7a0c-46d2-9657-f25036e4ca4b"
   },
   "source": [
    "In this challenge, we will continue to work with customer data from an insurance company, but we will use a dataset with more columns, called marketing_customer_analysis.csv, which can be found at the following link:\n",
    "\n",
    "https://raw.githubusercontent.com/data-bootcamp-v4/data/main/marketing_customer_analysis_clean.csv\n",
    "\n",
    "This dataset contains information such as customer demographics, policy details, vehicle information, and the customer's response to the last marketing campaign. Our goal is to explore and analyze this data by performing data cleaning, formatting, and structuring."
   ]
  },
  {
   "cell_type": "code",
   "execution_count": 160,
   "id": "aa10d9b0-1c27-4d3f-a8e4-db6ab73bfd26",
   "metadata": {
    "id": "aa10d9b0-1c27-4d3f-a8e4-db6ab73bfd26"
   },
   "outputs": [],
   "source": [
    "import pandas as pd \n",
    "\n",
    "url4 = 'https://raw.githubusercontent.com/data-bootcamp-v4/data/main/marketing_customer_analysis_clean.csv'\n",
    "df4 = pd.read_csv(url4)"
   ]
  },
  {
   "cell_type": "code",
   "execution_count": 169,
   "id": "26f67b9c",
   "metadata": {},
   "outputs": [
    {
     "data": {
      "text/plain": [
       "unnamed:_0                       0\n",
       "customer                         0\n",
       "state                            0\n",
       "customer_lifetime_value          0\n",
       "response                         0\n",
       "coverage                         0\n",
       "education                        0\n",
       "effective_to_date                0\n",
       "employmentstatus                 0\n",
       "gender                           0\n",
       "income                           0\n",
       "location_code                    0\n",
       "marital_status                   0\n",
       "monthly_premium_auto             0\n",
       "months_since_last_claim          0\n",
       "months_since_policy_inception    0\n",
       "number_of_open_complaints        0\n",
       "number_of_policies               0\n",
       "policy_type                      0\n",
       "policy                           0\n",
       "renew_offer_type                 0\n",
       "sales_channel                    0\n",
       "total_claim_amount               0\n",
       "vehicle_class                    0\n",
       "vehicle_size                     0\n",
       "vehicle_type                     0\n",
       "month                            0\n",
       "dtype: int64"
      ]
     },
     "execution_count": 169,
     "metadata": {},
     "output_type": "execute_result"
    }
   ],
   "source": [
    "df4.isna().sum()"
   ]
  },
  {
   "cell_type": "markdown",
   "id": "df35fd0d-513e-4e77-867e-429da10a9cc7",
   "metadata": {
    "id": "df35fd0d-513e-4e77-867e-429da10a9cc7"
   },
   "source": [
    "1. You work at the marketing department and you want to know which sales channel brought the most sales in terms of total revenue. Using pivot, create a summary table showing the total revenue for each sales channel (branch, call center, web, and mail).\n",
    "Round the total revenue to 2 decimal points.  Analyze the resulting table to draw insights."
   ]
  },
  {
   "cell_type": "code",
   "execution_count": 173,
   "id": "e3889d67",
   "metadata": {},
   "outputs": [
    {
     "name": "stdout",
     "output_type": "stream",
     "text": [
      "               total_claim_amount\n",
      "sales_channel                    \n",
      "Agent                  1810226.82\n",
      "Branch                 1301204.00\n",
      "Call Center             926600.82\n",
      "Web                     706600.04\n"
     ]
    }
   ],
   "source": [
    "pivot_table = df4.pivot_table( values='total_claim_amount', index='sales_channel', aggfunc='sum').round(2) \n",
    "\n",
    "# Afficher le tableau pivot\n",
    "print(pivot_table)"
   ]
  },
  {
   "cell_type": "markdown",
   "id": "640993b2-a291-436c-a34d-a551144f8196",
   "metadata": {
    "id": "640993b2-a291-436c-a34d-a551144f8196"
   },
   "source": [
    "2. Create a pivot table that shows the average customer lifetime value per gender and education level. Analyze the resulting table to draw insights."
   ]
  },
  {
   "cell_type": "code",
   "execution_count": 179,
   "id": "5a61f9f6",
   "metadata": {},
   "outputs": [
    {
     "data": {
      "text/html": [
       "<div>\n",
       "<style scoped>\n",
       "    .dataframe tbody tr th:only-of-type {\n",
       "        vertical-align: middle;\n",
       "    }\n",
       "\n",
       "    .dataframe tbody tr th {\n",
       "        vertical-align: top;\n",
       "    }\n",
       "\n",
       "    .dataframe thead th {\n",
       "        text-align: right;\n",
       "    }\n",
       "</style>\n",
       "<table border=\"1\" class=\"dataframe\">\n",
       "  <thead>\n",
       "    <tr style=\"text-align: right;\">\n",
       "      <th>education</th>\n",
       "      <th>Bachelor</th>\n",
       "      <th>College</th>\n",
       "      <th>Doctor</th>\n",
       "      <th>High School or Below</th>\n",
       "      <th>Master</th>\n",
       "    </tr>\n",
       "    <tr>\n",
       "      <th>gender</th>\n",
       "      <th></th>\n",
       "      <th></th>\n",
       "      <th></th>\n",
       "      <th></th>\n",
       "      <th></th>\n",
       "    </tr>\n",
       "  </thead>\n",
       "  <tbody>\n",
       "    <tr>\n",
       "      <th>F</th>\n",
       "      <td>7874.269478</td>\n",
       "      <td>7748.823325</td>\n",
       "      <td>7328.508916</td>\n",
       "      <td>8675.220201</td>\n",
       "      <td>8157.053154</td>\n",
       "    </tr>\n",
       "    <tr>\n",
       "      <th>M</th>\n",
       "      <td>7703.601675</td>\n",
       "      <td>8052.459288</td>\n",
       "      <td>7415.333638</td>\n",
       "      <td>8149.687783</td>\n",
       "      <td>8168.832659</td>\n",
       "    </tr>\n",
       "  </tbody>\n",
       "</table>\n",
       "</div>"
      ],
      "text/plain": [
       "education     Bachelor      College       Doctor  High School or Below  \\\n",
       "gender                                                                   \n",
       "F          7874.269478  7748.823325  7328.508916           8675.220201   \n",
       "M          7703.601675  8052.459288  7415.333638           8149.687783   \n",
       "\n",
       "education       Master  \n",
       "gender                  \n",
       "F          8157.053154  \n",
       "M          8168.832659  "
      ]
     },
     "execution_count": 179,
     "metadata": {},
     "output_type": "execute_result"
    }
   ],
   "source": [
    "\n",
    "\n",
    "pivot_table = df4.pivot_table(values='customer_lifetime_value', index='gender', columns = 'education', aggfunc='mean')\n",
    "pivot_table\n"
   ]
  },
  {
   "cell_type": "markdown",
   "id": "32c7f2e5-3d90-43e5-be33-9781b6069198",
   "metadata": {
    "id": "32c7f2e5-3d90-43e5-be33-9781b6069198"
   },
   "source": [
    "## Bonus\n",
    "\n",
    "You work at the customer service department and you want to know which months had the highest number of complaints by policy type category. Create a summary table showing the number of complaints by policy type and month.\n",
    "Show it in a long format table."
   ]
  },
  {
   "cell_type": "markdown",
   "id": "e3d09a8f-953c-448a-a5f8-2e5a8cca7291",
   "metadata": {
    "id": "e3d09a8f-953c-448a-a5f8-2e5a8cca7291"
   },
   "source": [
    "*In data analysis, a long format table is a way of structuring data in which each observation or measurement is stored in a separate row of the table. The key characteristic of a long format table is that each column represents a single variable, and each row represents a single observation of that variable.*\n",
    "\n",
    "*More information about long and wide format tables here: https://www.statology.org/long-vs-wide-data/*"
   ]
  },
  {
   "cell_type": "code",
   "execution_count": null,
   "id": "3a069e0b-b400-470e-904d-d17582191be4",
   "metadata": {
    "id": "3a069e0b-b400-470e-904d-d17582191be4"
   },
   "outputs": [],
   "source": [
    "# Your code goes here"
   ]
  }
 ],
 "metadata": {
  "colab": {
   "provenance": []
  },
  "kernelspec": {
   "display_name": "Python 3 (ipykernel)",
   "language": "python",
   "name": "python3"
  },
  "language_info": {
   "codemirror_mode": {
    "name": "ipython",
    "version": 3
   },
   "file_extension": ".py",
   "mimetype": "text/x-python",
   "name": "python",
   "nbconvert_exporter": "python",
   "pygments_lexer": "ipython3",
   "version": "3.12.4"
  }
 },
 "nbformat": 4,
 "nbformat_minor": 5
}
